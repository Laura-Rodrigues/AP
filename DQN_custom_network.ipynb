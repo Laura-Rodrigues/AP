{
 "cells": [
  {
   "cell_type": "code",
   "execution_count": 1,
   "id": "19460f5b-8ba1-46f9-b59f-ce2e8c0df28b",
   "metadata": {},
   "outputs": [
    {
     "name": "stderr",
     "output_type": "stream",
     "text": [
      "/home/edu/anaconda3/envs/tp_ap/lib/python3.9/site-packages/gym/envs/registration.py:555: UserWarning: \u001b[33mWARN: The environment SuperMarioBros-v0 is out of date. You should consider upgrading to version `v3`.\u001b[0m\n",
      "  logger.warn(\n",
      "/home/edu/anaconda3/envs/tp_ap/lib/python3.9/site-packages/gym/envs/registration.py:627: UserWarning: \u001b[33mWARN: The environment creator metadata doesn't include `render_modes`, contains: ['render.modes', 'video.frames_per_second']\u001b[0m\n",
      "  logger.warn(\n"
     ]
    }
   ],
   "source": [
    "from nes_py.wrappers import JoypadSpace\n",
    "import gym_super_mario_bros\n",
    "from gym_super_mario_bros.actions import SIMPLE_MOVEMENT\n",
    "import numpy as np \n",
    "env = gym_super_mario_bros.make('SuperMarioBros-v0', apply_api_compatibility=True, render_mode=\"human\")\n",
    "env = JoypadSpace(env, SIMPLE_MOVEMENT)\n"
   ]
  },
  {
   "cell_type": "code",
   "execution_count": 2,
   "id": "af8d6d70-4486-466b-b9a1-9c024d60e40c",
   "metadata": {},
   "outputs": [],
   "source": [
    "from gym.spaces import Box\n",
    "from gym import Wrapper, ObservationWrapper\n",
    "from gym.wrappers import FrameStack, GrayScaleObservation, ResizeObservation\n",
    "\n",
    "class CustomWrapper(Wrapper):\n",
    "    def reset(self, **kwargs):\n",
    "        kwargs.pop('seed', None)  # Remove the 'seed' argument\n",
    "        kwargs.pop('options', None)  # Remove the 'options' argument\n",
    "        return self.env.reset(**kwargs)\n",
    "\n",
    "# Wrap your environment\n",
    "env = CustomWrapper(env)\n",
    "\n",
    "class SkipFrame(Wrapper):\n",
    "    def __init__(self, env, skip):\n",
    "        \"\"\"Return only every `skip`-th frame\"\"\"\n",
    "        super().__init__(env)\n",
    "        self._skip = skip\n",
    "\n",
    "    def step(self, action):\n",
    "        \"\"\"Repeat action, and sum reward\"\"\"\n",
    "        total_reward = 0.0\n",
    "        for i in range(self._skip):\n",
    "            # Accumulate reward and repeat the same action\n",
    "            obs, reward, done, trunk, info = self.env.step(action)\n",
    "            total_reward += reward\n",
    "            if done:\n",
    "                break\n",
    "        return obs, total_reward, done, trunk, info\n",
    "\n",
    "    \n",
    "class RemoveChannelDim(ObservationWrapper):\n",
    "    def observation(self, observation):\n",
    "        return np.squeeze(observation)\n",
    "    \n",
    "# Apply Wrappers to environment\n",
    "env = SkipFrame(env, skip=4)\n",
    "env = GrayScaleObservation(env)\n",
    "env = ResizeObservation(env, shape=84)\n",
    "env = RemoveChannelDim(env)\n",
    "env = FrameStack(env, num_stack=4)\n"
   ]
  },
  {
   "cell_type": "code",
   "execution_count": 3,
   "id": "cd0e2bf4-3191-4d21-856e-c89d6ec672d3",
   "metadata": {},
   "outputs": [
    {
     "name": "stderr",
     "output_type": "stream",
     "text": [
      "2023-06-12 23:49:47.536234: I tensorflow/core/platform/cpu_feature_guard.cc:182] This TensorFlow binary is optimized to use available CPU instructions in performance-critical operations.\n",
      "To enable the following instructions: AVX2 FMA, in other operations, rebuild TensorFlow with the appropriate compiler flags.\n",
      "2023-06-12 23:49:48.527932: W tensorflow/compiler/tf2tensorrt/utils/py_utils.cc:38] TF-TRT Warning: Could not find TensorRT\n"
     ]
    }
   ],
   "source": [
    "from stable_baselines3 import DQN\n",
    "from stable_baselines3.common.callbacks import BaseCallback\n",
    "import os"
   ]
  },
  {
   "cell_type": "code",
   "execution_count": 4,
   "id": "f340c2cf-05a7-47ec-9819-e721bda0cee0",
   "metadata": {},
   "outputs": [],
   "source": [
    "class TrainAndLoggingCallback(BaseCallback):\n",
    "\n",
    "    def __init__(self, check_freq, save_path, verbose=1):\n",
    "        super(TrainAndLoggingCallback, self).__init__(verbose)\n",
    "        self.check_freq = check_freq\n",
    "        self.save_path = save_path\n",
    "\n",
    "    def _init_callback(self):\n",
    "        if self.save_path is not None:\n",
    "            os.makedirs(self.save_path, exist_ok=True)\n",
    "\n",
    "    def _on_step(self):\n",
    "        if self.n_calls % self.check_freq == 0:\n",
    "            model_path = os.path.join(self.save_path, 'best_model_{}'.format(self.n_calls))\n",
    "            self.model.save(model_path)\n",
    "\n",
    "        return True"
   ]
  },
  {
   "cell_type": "code",
   "execution_count": 5,
   "id": "39420877-b03e-4aa1-a9c4-a2df2d9a9ab3",
   "metadata": {},
   "outputs": [],
   "source": [
    "CHECKPOINT_DIR = './dqn/train/'\n",
    "LOG_DIR = './dqn/logs/'"
   ]
  },
  {
   "cell_type": "code",
   "execution_count": 6,
   "id": "be196ae0-9bb0-4d1d-94bf-66d8f7c9d86b",
   "metadata": {},
   "outputs": [],
   "source": [
    "# Setup model saving callback\n",
    "callback = TrainAndLoggingCallback(check_freq=1000, save_path=CHECKPOINT_DIR)"
   ]
  },
  {
   "cell_type": "code",
   "execution_count": 7,
   "id": "c76edfda-e91d-4cec-9f16-e81a964e3ff3",
   "metadata": {},
   "outputs": [],
   "source": [
    "import torch as th\n",
    "import torch.nn as nn\n",
    "from gymnasium import spaces\n",
    "\n",
    "from stable_baselines3.common.torch_layers import BaseFeaturesExtractor\n",
    "\n",
    "\n",
    "class CustomCNN(BaseFeaturesExtractor):\n",
    "    \"\"\"\n",
    "    :param observation_space: (gym.Space)\n",
    "    :param features_dim: (int) Number of features extracted.\n",
    "        This corresponds to the number of unit for the last layer.\n",
    "    \"\"\"\n",
    "\n",
    "    def __init__(self, observation_space: spaces.Box, features_dim: int = 256):\n",
    "        super().__init__(observation_space, features_dim)\n",
    "        # We assume CxHxW images (channels first)\n",
    "        # Re-ordering will be done by pre-preprocessing or wrapper\n",
    "        n_input_channels = observation_space.shape[0]\n",
    "        self.cnn = nn.Sequential(\n",
    "            nn.Conv2d(in_channels=n_input_channels, out_channels=32, kernel_size=8, stride=4),\n",
    "            nn.ReLU(),\n",
    "            nn.Conv2d(in_channels=32, out_channels=64, kernel_size=4, stride=2),\n",
    "            nn.ReLU(),\n",
    "            nn.Conv2d(in_channels=64, out_channels=64, kernel_size=3, stride=1),\n",
    "            nn.ReLU(),\n",
    "            nn.Flatten(),\n",
    "        )\n",
    "\n",
    "        # Compute shape by doing one forward pass\n",
    "        with th.no_grad():\n",
    "            n_flatten = self.cnn(\n",
    "                th.as_tensor(observation_space.sample()[None]).float()\n",
    "            ).shape[1]\n",
    "\n",
    "        self.linear = nn.Sequential(nn.Linear(3136, 512),\n",
    "                                    nn.ReLU(),\n",
    "                                    nn.Linear(512, features_dim))\n",
    "            #nn.Linear(n_flatten, features_dim), nn.ReLU())\n",
    "\n",
    "    def forward(self, observations: th.Tensor) -> th.Tensor:\n",
    "        return self.linear(self.cnn(observations))\n",
    "\n",
    "policy_kwargs = dict(\n",
    "    features_extractor_class=CustomCNN,\n",
    "    features_extractor_kwargs=dict(features_dim=128),\n",
    ")\n"
   ]
  },
  {
   "cell_type": "code",
   "execution_count": 8,
   "id": "cb86b026-0801-4a3f-a731-a9c90e040bda",
   "metadata": {},
   "outputs": [
    {
     "name": "stdout",
     "output_type": "stream",
     "text": [
      "Using cpu device\n",
      "Wrapping the env with a `Monitor` wrapper\n",
      "Wrapping the env in a DummyVecEnv.\n"
     ]
    },
    {
     "name": "stderr",
     "output_type": "stream",
     "text": [
      "/home/edu/anaconda3/envs/tp_ap/lib/python3.9/site-packages/stable_baselines3/common/vec_env/patch_gym.py:49: UserWarning: You provided an OpenAI Gym environment. We strongly recommend transitioning to Gymnasium environments. Stable-Baselines3 is automatically wrapping your environments in a compatibility layer, which could potentially cause issues.\n",
      "  warnings.warn(\n"
     ]
    }
   ],
   "source": [
    "model = DQN('CnnPolicy', env, verbose=1, tensorboard_log=LOG_DIR, learning_rate=0.00001, \n",
    "            policy_kwargs=policy_kwargs, buffer_size=80000) "
   ]
  },
  {
   "cell_type": "code",
   "execution_count": 9,
   "id": "48139e23-5592-4382-a924-24f0e66d714f",
   "metadata": {},
   "outputs": [],
   "source": [
    "from stable_baselines3.common.logger import configure\n",
    "\n",
    "def train_model():\n",
    "    env.reset()\n",
    "    new_logger = configure(LOG_DIR, [\"stdout\", \"csv\"])\n",
    "    # Set new logger \n",
    "    model.set_logger(new_logger)\n",
    "\n",
    "    model.learn(total_timesteps=100000, callback=callback)\n",
    "\n",
    "#train_model()"
   ]
  },
  {
   "cell_type": "code",
   "execution_count": 10,
   "id": "dbcd75fa-1b53-4b37-a8cb-d83d9dace552",
   "metadata": {},
   "outputs": [],
   "source": [
    "model.save('dqn_test_model')"
   ]
  },
  {
   "cell_type": "code",
   "execution_count": 11,
   "id": "d310d790-3739-412f-951f-fe4d1a3a7e62",
   "metadata": {},
   "outputs": [],
   "source": [
    "#env.close()"
   ]
  },
  {
   "cell_type": "code",
   "execution_count": 12,
   "id": "74de26ad-6af3-4dff-b805-7223ea41142e",
   "metadata": {},
   "outputs": [
    {
     "name": "stdout",
     "output_type": "stream",
     "text": [
      "Done.\n"
     ]
    }
   ],
   "source": [
    "from stable_baselines3.common.evaluation import evaluate_policy\n",
    "\n",
    "model = DQN.load(\"dqn/train/best_model_100000\")\n",
    "obs = env.reset()\n",
    "\n",
    "print(evaluate_policy(model, env, n_eval_episodes=10, deterministic=False, render=True))\n",
    "\n",
    "print(\"Done.\")\n"
   ]
  },
  {
   "cell_type": "code",
   "execution_count": 13,
   "id": "d3732799-a499-4a62-83cb-d2b5ac43ebb8",
   "metadata": {},
   "outputs": [],
   "source": [
    "env.close()"
   ]
  },
  {
   "cell_type": "code",
   "execution_count": 14,
   "id": "52991f29-9fd3-42dc-b9eb-9e5cd59a202c",
   "metadata": {},
   "outputs": [
    {
     "data": {
      "text/html": [
       "<div>\n",
       "<style scoped>\n",
       "    .dataframe tbody tr th:only-of-type {\n",
       "        vertical-align: middle;\n",
       "    }\n",
       "\n",
       "    .dataframe tbody tr th {\n",
       "        vertical-align: top;\n",
       "    }\n",
       "\n",
       "    .dataframe thead th {\n",
       "        text-align: right;\n",
       "    }\n",
       "</style>\n",
       "<table border=\"1\" class=\"dataframe\">\n",
       "  <thead>\n",
       "    <tr style=\"text-align: right;\">\n",
       "      <th></th>\n",
       "      <th>rollout/exploration_rate</th>\n",
       "      <th>time/episodes</th>\n",
       "      <th>rollout/ep_rew_mean</th>\n",
       "      <th>time/total_timesteps</th>\n",
       "      <th>time/fps</th>\n",
       "      <th>time/time_elapsed</th>\n",
       "      <th>rollout/ep_len_mean</th>\n",
       "    </tr>\n",
       "  </thead>\n",
       "  <tbody>\n",
       "    <tr>\n",
       "      <th>0</th>\n",
       "      <td>0.05</td>\n",
       "      <td>4</td>\n",
       "      <td>1537.500000</td>\n",
       "      <td>4443</td>\n",
       "      <td>88</td>\n",
       "      <td>50</td>\n",
       "      <td>1110.750000</td>\n",
       "    </tr>\n",
       "    <tr>\n",
       "      <th>1</th>\n",
       "      <td>0.05</td>\n",
       "      <td>8</td>\n",
       "      <td>1801.250000</td>\n",
       "      <td>8435</td>\n",
       "      <td>90</td>\n",
       "      <td>93</td>\n",
       "      <td>1054.375000</td>\n",
       "    </tr>\n",
       "    <tr>\n",
       "      <th>2</th>\n",
       "      <td>0.05</td>\n",
       "      <td>12</td>\n",
       "      <td>1753.750000</td>\n",
       "      <td>12969</td>\n",
       "      <td>90</td>\n",
       "      <td>143</td>\n",
       "      <td>1080.750000</td>\n",
       "    </tr>\n",
       "    <tr>\n",
       "      <th>3</th>\n",
       "      <td>0.05</td>\n",
       "      <td>16</td>\n",
       "      <td>1784.250000</td>\n",
       "      <td>18448</td>\n",
       "      <td>86</td>\n",
       "      <td>213</td>\n",
       "      <td>1153.000000</td>\n",
       "    </tr>\n",
       "    <tr>\n",
       "      <th>4</th>\n",
       "      <td>0.05</td>\n",
       "      <td>20</td>\n",
       "      <td>1817.350000</td>\n",
       "      <td>21350</td>\n",
       "      <td>86</td>\n",
       "      <td>246</td>\n",
       "      <td>1067.500000</td>\n",
       "    </tr>\n",
       "    <tr>\n",
       "      <th>5</th>\n",
       "      <td>0.05</td>\n",
       "      <td>24</td>\n",
       "      <td>1827.666667</td>\n",
       "      <td>25120</td>\n",
       "      <td>86</td>\n",
       "      <td>291</td>\n",
       "      <td>1046.666667</td>\n",
       "    </tr>\n",
       "    <tr>\n",
       "      <th>6</th>\n",
       "      <td>0.05</td>\n",
       "      <td>28</td>\n",
       "      <td>1764.750000</td>\n",
       "      <td>26830</td>\n",
       "      <td>86</td>\n",
       "      <td>311</td>\n",
       "      <td>958.214286</td>\n",
       "    </tr>\n",
       "    <tr>\n",
       "      <th>7</th>\n",
       "      <td>0.05</td>\n",
       "      <td>32</td>\n",
       "      <td>1821.218750</td>\n",
       "      <td>30229</td>\n",
       "      <td>85</td>\n",
       "      <td>352</td>\n",
       "      <td>944.656250</td>\n",
       "    </tr>\n",
       "    <tr>\n",
       "      <th>8</th>\n",
       "      <td>0.05</td>\n",
       "      <td>36</td>\n",
       "      <td>1796.916667</td>\n",
       "      <td>34959</td>\n",
       "      <td>85</td>\n",
       "      <td>407</td>\n",
       "      <td>971.083333</td>\n",
       "    </tr>\n",
       "    <tr>\n",
       "      <th>9</th>\n",
       "      <td>0.05</td>\n",
       "      <td>40</td>\n",
       "      <td>1776.350000</td>\n",
       "      <td>39512</td>\n",
       "      <td>85</td>\n",
       "      <td>460</td>\n",
       "      <td>987.800000</td>\n",
       "    </tr>\n",
       "  </tbody>\n",
       "</table>\n",
       "</div>"
      ],
      "text/plain": [
       "   rollout/exploration_rate  time/episodes  rollout/ep_rew_mean  \\\n",
       "0                      0.05              4          1537.500000   \n",
       "1                      0.05              8          1801.250000   \n",
       "2                      0.05             12          1753.750000   \n",
       "3                      0.05             16          1784.250000   \n",
       "4                      0.05             20          1817.350000   \n",
       "5                      0.05             24          1827.666667   \n",
       "6                      0.05             28          1764.750000   \n",
       "7                      0.05             32          1821.218750   \n",
       "8                      0.05             36          1796.916667   \n",
       "9                      0.05             40          1776.350000   \n",
       "\n",
       "   time/total_timesteps  time/fps  time/time_elapsed  rollout/ep_len_mean  \n",
       "0                  4443        88                 50          1110.750000  \n",
       "1                  8435        90                 93          1054.375000  \n",
       "2                 12969        90                143          1080.750000  \n",
       "3                 18448        86                213          1153.000000  \n",
       "4                 21350        86                246          1067.500000  \n",
       "5                 25120        86                291          1046.666667  \n",
       "6                 26830        86                311           958.214286  \n",
       "7                 30229        85                352           944.656250  \n",
       "8                 34959        85                407           971.083333  \n",
       "9                 39512        85                460           987.800000  "
      ]
     },
     "execution_count": 14,
     "metadata": {},
     "output_type": "execute_result"
    }
   ],
   "source": [
    "import pandas as pd\n",
    "\n",
    "df = pd.read_csv(\"dqn/logs/progress.csv\")\n",
    "df"
   ]
  },
  {
   "cell_type": "code",
   "execution_count": 15,
   "id": "b2d5b1e8-48f5-4294-ac33-b55a9a4d1fd6",
   "metadata": {},
   "outputs": [
    {
     "data": {
      "text/html": [
       "<div>\n",
       "<style scoped>\n",
       "    .dataframe tbody tr th:only-of-type {\n",
       "        vertical-align: middle;\n",
       "    }\n",
       "\n",
       "    .dataframe tbody tr th {\n",
       "        vertical-align: top;\n",
       "    }\n",
       "\n",
       "    .dataframe thead th {\n",
       "        text-align: right;\n",
       "    }\n",
       "</style>\n",
       "<table border=\"1\" class=\"dataframe\">\n",
       "  <thead>\n",
       "    <tr style=\"text-align: right;\">\n",
       "      <th></th>\n",
       "      <th>rollout/exploration_rate</th>\n",
       "      <th>time/episodes</th>\n",
       "      <th>rollout/ep_rew_mean</th>\n",
       "      <th>time/total_timesteps</th>\n",
       "      <th>time/fps</th>\n",
       "      <th>time/time_elapsed</th>\n",
       "      <th>rollout/ep_len_mean</th>\n",
       "    </tr>\n",
       "  </thead>\n",
       "  <tbody>\n",
       "    <tr>\n",
       "      <th>0</th>\n",
       "      <td>0.05</td>\n",
       "      <td>4</td>\n",
       "      <td>1537.500000</td>\n",
       "      <td>4443</td>\n",
       "      <td>88</td>\n",
       "      <td>50</td>\n",
       "      <td>1110.750000</td>\n",
       "    </tr>\n",
       "    <tr>\n",
       "      <th>1</th>\n",
       "      <td>0.05</td>\n",
       "      <td>8</td>\n",
       "      <td>1801.250000</td>\n",
       "      <td>8435</td>\n",
       "      <td>90</td>\n",
       "      <td>93</td>\n",
       "      <td>1054.375000</td>\n",
       "    </tr>\n",
       "    <tr>\n",
       "      <th>2</th>\n",
       "      <td>0.05</td>\n",
       "      <td>12</td>\n",
       "      <td>1753.750000</td>\n",
       "      <td>12969</td>\n",
       "      <td>90</td>\n",
       "      <td>143</td>\n",
       "      <td>1080.750000</td>\n",
       "    </tr>\n",
       "    <tr>\n",
       "      <th>3</th>\n",
       "      <td>0.05</td>\n",
       "      <td>16</td>\n",
       "      <td>1784.250000</td>\n",
       "      <td>18448</td>\n",
       "      <td>86</td>\n",
       "      <td>213</td>\n",
       "      <td>1153.000000</td>\n",
       "    </tr>\n",
       "    <tr>\n",
       "      <th>4</th>\n",
       "      <td>0.05</td>\n",
       "      <td>20</td>\n",
       "      <td>1817.350000</td>\n",
       "      <td>21350</td>\n",
       "      <td>86</td>\n",
       "      <td>246</td>\n",
       "      <td>1067.500000</td>\n",
       "    </tr>\n",
       "    <tr>\n",
       "      <th>5</th>\n",
       "      <td>0.05</td>\n",
       "      <td>24</td>\n",
       "      <td>1827.666667</td>\n",
       "      <td>25120</td>\n",
       "      <td>86</td>\n",
       "      <td>291</td>\n",
       "      <td>1046.666667</td>\n",
       "    </tr>\n",
       "    <tr>\n",
       "      <th>6</th>\n",
       "      <td>0.05</td>\n",
       "      <td>28</td>\n",
       "      <td>1764.750000</td>\n",
       "      <td>26830</td>\n",
       "      <td>86</td>\n",
       "      <td>311</td>\n",
       "      <td>958.214286</td>\n",
       "    </tr>\n",
       "    <tr>\n",
       "      <th>7</th>\n",
       "      <td>0.05</td>\n",
       "      <td>32</td>\n",
       "      <td>1821.218750</td>\n",
       "      <td>30229</td>\n",
       "      <td>85</td>\n",
       "      <td>352</td>\n",
       "      <td>944.656250</td>\n",
       "    </tr>\n",
       "    <tr>\n",
       "      <th>8</th>\n",
       "      <td>0.05</td>\n",
       "      <td>36</td>\n",
       "      <td>1796.916667</td>\n",
       "      <td>34959</td>\n",
       "      <td>85</td>\n",
       "      <td>407</td>\n",
       "      <td>971.083333</td>\n",
       "    </tr>\n",
       "    <tr>\n",
       "      <th>9</th>\n",
       "      <td>0.05</td>\n",
       "      <td>40</td>\n",
       "      <td>1776.350000</td>\n",
       "      <td>39512</td>\n",
       "      <td>85</td>\n",
       "      <td>460</td>\n",
       "      <td>987.800000</td>\n",
       "    </tr>\n",
       "  </tbody>\n",
       "</table>\n",
       "</div>"
      ],
      "text/plain": [
       "   rollout/exploration_rate  time/episodes  rollout/ep_rew_mean  \\\n",
       "0                      0.05              4          1537.500000   \n",
       "1                      0.05              8          1801.250000   \n",
       "2                      0.05             12          1753.750000   \n",
       "3                      0.05             16          1784.250000   \n",
       "4                      0.05             20          1817.350000   \n",
       "5                      0.05             24          1827.666667   \n",
       "6                      0.05             28          1764.750000   \n",
       "7                      0.05             32          1821.218750   \n",
       "8                      0.05             36          1796.916667   \n",
       "9                      0.05             40          1776.350000   \n",
       "\n",
       "   time/total_timesteps  time/fps  time/time_elapsed  rollout/ep_len_mean  \n",
       "0                  4443        88                 50          1110.750000  \n",
       "1                  8435        90                 93          1054.375000  \n",
       "2                 12969        90                143          1080.750000  \n",
       "3                 18448        86                213          1153.000000  \n",
       "4                 21350        86                246          1067.500000  \n",
       "5                 25120        86                291          1046.666667  \n",
       "6                 26830        86                311           958.214286  \n",
       "7                 30229        85                352           944.656250  \n",
       "8                 34959        85                407           971.083333  \n",
       "9                 39512        85                460           987.800000  "
      ]
     },
     "execution_count": 15,
     "metadata": {},
     "output_type": "execute_result"
    }
   ],
   "source": [
    "df = df.fillna(0)\n",
    "df"
   ]
  },
  {
   "cell_type": "code",
   "execution_count": 16,
   "id": "f70d5620-5013-454b-b4f2-616f1226061a",
   "metadata": {},
   "outputs": [
    {
     "data": {
      "image/png": "[encoded data removed]",
      "text/plain": [
       "<Figure size 640x480 with 1 Axes>"
      ]
     },
     "metadata": {},
     "output_type": "display_data"
    },
    {
     "data": {
      "text/plain": [
       "<Figure size 640x480 with 0 Axes>"
      ]
     },
     "metadata": {},
     "output_type": "display_data"
    }
   ],
   "source": [
    "import matplotlib.pyplot as plt\n",
    "xpoints = np.array(df['time/total_timesteps'].to_numpy())\n",
    "ypoints = np.array(df['rollout/ep_rew_mean'].to_numpy())\n",
    "plt.plot(xpoints, ypoints, color = 'b')\n",
    "plt.show()\n",
    "plt.savefig('dqn/plots/mean_reward.png')\n",
    "plt.clf()"
   ]
  },
  {
   "cell_type": "code",
   "execution_count": 17,
   "id": "0c5965c1-bc77-440e-ad90-40fcfd2135c6",
   "metadata": {},
   "outputs": [
    {
     "data": {
      "image/png": "[encoded data removed]",
      "text/plain": [
       "<Figure size 640x480 with 1 Axes>"
      ]
     },
     "metadata": {},
     "output_type": "display_data"
    },
    {
     "data": {
      "text/plain": [
       "<Figure size 640x480 with 0 Axes>"
      ]
     },
     "metadata": {},
     "output_type": "display_data"
    }
   ],
   "source": [
    "xpoints_len = np.array(df['time/total_timesteps'].to_numpy())\n",
    "ypoints_len = np.array(df['rollout/ep_len_mean'].to_numpy())\n",
    "plt.plot(xpoints_len, ypoints_len, color = 'b')\n",
    "plt.show()\n",
    "plt.savefig('dqn/plots/length.png')\n",
    "plt.clf()"
   ]
  }
 ],
 "metadata": {
  "kernelspec": {
   "display_name": "Python 3 (ipykernel)",
   "language": "python",
   "name": "python3"
  },
  "language_info": {
   "codemirror_mode": {
    "name": "ipython",
    "version": 3
   },
   "file_extension": ".py",
   "mimetype": "text/x-python",
   "name": "python",
   "nbconvert_exporter": "python",
   "pygments_lexer": "ipython3",
   "version": "3.9.0"
  }
 },
 "nbformat": 4,
 "nbformat_minor": 5
}
